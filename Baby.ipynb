{
  "nbformat": 4,
  "nbformat_minor": 0,
  "metadata": {
    "colab": {
      "name": "Baby.ipynb",
      "provenance": []
    },
    "kernelspec": {
      "name": "python3",
      "display_name": "Python 3"
    }
  },
  "cells": [
    {
      "cell_type": "code",
      "metadata": {
        "id": "rw5MQuoKQ8_l",
        "colab_type": "code",
        "colab": {
          "base_uri": "https://localhost:8080/",
          "height": 124
        },
        "outputId": "faaba72d-38ff-4431-fbc9-03bf56eed287"
      },
      "source": [
        "from google.colab import drive\n",
        "drive.mount('/content/drive')"
      ],
      "execution_count": 1,
      "outputs": [
        {
          "output_type": "stream",
          "text": [
            "Go to this URL in a browser: https://accounts.google.com/o/oauth2/auth?client_id=947318989803-6bn6qk8qdgf4n4g3pfee6491hc0brc4i.apps.googleusercontent.com&redirect_uri=urn%3aietf%3awg%3aoauth%3a2.0%3aoob&response_type=code&scope=email%20https%3a%2f%2fwww.googleapis.com%2fauth%2fdocs.test%20https%3a%2f%2fwww.googleapis.com%2fauth%2fdrive%20https%3a%2f%2fwww.googleapis.com%2fauth%2fdrive.photos.readonly%20https%3a%2f%2fwww.googleapis.com%2fauth%2fpeopleapi.readonly\n",
            "\n",
            "Enter your authorization code:\n",
            "··········\n",
            "Mounted at /content/drive\n"
          ],
          "name": "stdout"
        }
      ]
    },
    {
      "cell_type": "code",
      "metadata": {
        "id": "wl-YGG2SRkh1",
        "colab_type": "code",
        "colab": {}
      },
      "source": [
        "import re"
      ],
      "execution_count": 0,
      "outputs": []
    },
    {
      "cell_type": "code",
      "metadata": {
        "id": "k1j_HewRREw-",
        "colab_type": "code",
        "colab": {}
      },
      "source": [
        "def extract_web(fname):\n",
        "    html_file = open(fname, 'r')\n",
        "    source_data = html_file.read()\n",
        "    names = []\n",
        "    year = re.findall(r'Popularity\\sin\\s(\\d\\d\\d\\d)', source_data)\n",
        "    content = re.findall(r'<td>(\\d+)</td><td>(\\w+)</td>\\<td>(\\w+)</td>', source_data)\n",
        "    names_to_rank =  {}\n",
        "    for rank_tuple in content:\n",
        "      (rank, boyname, girlname) = rank_tuple  # unpack the tuple into 3 vars\n",
        "      if boyname not in names_to_rank:\n",
        "        names_to_rank[boyname] = rank\n",
        "      if girlname not in names_to_rank:\n",
        "        names_to_rank[girlname] = rank\n",
        "    sorted_names = sorted(names_to_rank.keys())\n",
        "    for name in sorted_names:\n",
        "      names.append(name + \" \" + names_to_rank[name])\n",
        "    \n",
        "    return names\n",
        "  \n",
        "summary1 = extract_web('/content/drive/My Drive/Baby/baby1990.html')"
      ],
      "execution_count": 0,
      "outputs": []
    },
    {
      "cell_type": "code",
      "metadata": {
        "id": "yIBovbV6RT7R",
        "colab_type": "code",
        "colab": {}
      },
      "source": [
        "def extract_web(fname):\n",
        "    html_file = open(fname, 'r')\n",
        "    source_data = html_file.read()\n",
        "    names = []\n",
        "    year = re.findall(r'Popularity\\sin\\s(\\d\\d\\d\\d)', source_data)\n",
        "    content = re.findall(r'<td>(\\d+)</td><td>(\\w+)</td>\\<td>(\\w+)</td>', source_data)\n",
        "    names_to_rank =  {}\n",
        "    for rank_tuple in content:\n",
        "      (rank, boyname, girlname) = rank_tuple  # unpack the tuple into 3 vars\n",
        "      if boyname not in names_to_rank:\n",
        "        names_to_rank[boyname] = rank\n",
        "      if girlname not in names_to_rank:\n",
        "        names_to_rank[girlname] = rank\n",
        "    sorted_names = sorted(names_to_rank.keys())\n",
        "    for name in sorted_names:\n",
        "      names.append(name + \" \" + names_to_rank[name])\n",
        "    \n",
        "    return names\n",
        "  \n",
        "summary2 = extract_web('/content/drive/My Drive/Baby/baby1992.html')"
      ],
      "execution_count": 0,
      "outputs": []
    },
    {
      "cell_type": "code",
      "metadata": {
        "id": "Ky7u3lY-R5x_",
        "colab_type": "code",
        "colab": {}
      },
      "source": [
        "def extract_web(fname):\n",
        "    html_file = open(fname, 'r')\n",
        "    source_data = html_file.read()\n",
        "    names = []\n",
        "    year = re.findall(r'Popularity\\sin\\s(\\d\\d\\d\\d)', source_data)\n",
        "    content = re.findall(r'<td>(\\d+)</td><td>(\\w+)</td>\\<td>(\\w+)</td>', source_data)\n",
        "    names_to_rank =  {}\n",
        "    for rank_tuple in content:\n",
        "      (rank, boyname, girlname) = rank_tuple  # unpack the tuple into 3 vars\n",
        "      if boyname not in names_to_rank:\n",
        "        names_to_rank[boyname] = rank\n",
        "      if girlname not in names_to_rank:\n",
        "        names_to_rank[girlname] = rank\n",
        "    sorted_names = sorted(names_to_rank.keys())\n",
        "    for name in sorted_names:\n",
        "      names.append(name + \" \" + names_to_rank[name])\n",
        "    \n",
        "    return names\n",
        "  \n",
        "summary3 = extract_web('/content/drive/My Drive/Baby/baby1994.html')"
      ],
      "execution_count": 0,
      "outputs": []
    },
    {
      "cell_type": "code",
      "metadata": {
        "id": "PT4veTc2SsUU",
        "colab_type": "code",
        "colab": {}
      },
      "source": [
        "def extract_web(fname):\n",
        "    html_file = open(fname, 'r')\n",
        "    source_data = html_file.read()\n",
        "    names = []\n",
        "    year = re.findall(r'Popularity\\sin\\s(\\d\\d\\d\\d)', source_data)\n",
        "    content = re.findall(r'<td>(\\d+)</td><td>(\\w+)</td>\\<td>(\\w+)</td>', source_data)\n",
        "    names_to_rank =  {}\n",
        "    for rank_tuple in content:\n",
        "      (rank, boyname, girlname) = rank_tuple  # unpack the tuple into 3 vars\n",
        "      if boyname not in names_to_rank:\n",
        "        names_to_rank[boyname] = rank\n",
        "      if girlname not in names_to_rank:\n",
        "        names_to_rank[girlname] = rank\n",
        "    sorted_names = sorted(names_to_rank.keys())\n",
        "    for name in sorted_names:\n",
        "      names.append(name + \" \" + names_to_rank[name])\n",
        "    \n",
        "    return names\n",
        "  \n",
        "summary4 = extract_web('/content/drive/My Drive/Baby/baby1996.html')"
      ],
      "execution_count": 0,
      "outputs": []
    },
    {
      "cell_type": "code",
      "metadata": {
        "id": "2L2D3mJ7S3DM",
        "colab_type": "code",
        "colab": {}
      },
      "source": [
        "def extract_web(fname):\n",
        "    html_file = open(fname, 'r')\n",
        "    source_data = html_file.read()\n",
        "    names = []\n",
        "    year = re.findall(r'Popularity\\sin\\s(\\d\\d\\d\\d)', source_data)\n",
        "    content = re.findall(r'<td>(\\d+)</td><td>(\\w+)</td>\\<td>(\\w+)</td>', source_data)\n",
        "    names_to_rank =  {}\n",
        "    for rank_tuple in content:\n",
        "      (rank, boyname, girlname) = rank_tuple  # unpack the tuple into 3 vars\n",
        "      if boyname not in names_to_rank:\n",
        "        names_to_rank[boyname] = rank\n",
        "      if girlname not in names_to_rank:\n",
        "        names_to_rank[girlname] = rank\n",
        "    sorted_names = sorted(names_to_rank.keys())\n",
        "    for name in sorted_names:\n",
        "      names.append(name + \" \" + names_to_rank[name])\n",
        "    \n",
        "    return names\n",
        "  \n",
        "summary5 = extract_web('/content/drive/My Drive/Baby/baby1998.html')"
      ],
      "execution_count": 0,
      "outputs": []
    },
    {
      "cell_type": "code",
      "metadata": {
        "id": "LqpHA6d1TGzV",
        "colab_type": "code",
        "colab": {}
      },
      "source": [
        "def extract_web(fname):\n",
        "    html_file = open(fname, 'r')\n",
        "    source_data = html_file.read()\n",
        "    names = []\n",
        "    year = re.findall(r'Popularity\\sin\\s(\\d\\d\\d\\d)', source_data)\n",
        "    content = re.findall(r'<td>(\\d+)</td><td>(\\w+)</td>\\<td>(\\w+)</td>', source_data)\n",
        "    names_to_rank =  {}\n",
        "    for rank_tuple in content:\n",
        "      (rank, boyname, girlname) = rank_tuple  # unpack the tuple into 3 vars\n",
        "      if boyname not in names_to_rank:\n",
        "        names_to_rank[boyname] = rank\n",
        "      if girlname not in names_to_rank:\n",
        "        names_to_rank[girlname] = rank\n",
        "    sorted_names = sorted(names_to_rank.keys())\n",
        "    for name in sorted_names:\n",
        "      names.append(name + \" \" + names_to_rank[name])\n",
        "    \n",
        "    return names\n",
        "  \n",
        "summary6 = extract_web('/content/drive/My Drive/Baby/baby2000.html')"
      ],
      "execution_count": 0,
      "outputs": []
    },
    {
      "cell_type": "code",
      "metadata": {
        "id": "Zv5PTzQkTOjD",
        "colab_type": "code",
        "colab": {}
      },
      "source": [
        "def extract_web(fname):\n",
        "    html_file = open(fname, 'r')\n",
        "    source_data = html_file.read()\n",
        "    names = []\n",
        "    year = re.findall(r'Popularity\\sin\\s(\\d\\d\\d\\d)', source_data)\n",
        "    content = re.findall(r'<td>(\\d+)</td><td>(\\w+)</td>\\<td>(\\w+)</td>', source_data)\n",
        "    names_to_rank =  {}\n",
        "    for rank_tuple in content:\n",
        "      (rank, boyname, girlname) = rank_tuple  # unpack the tuple into 3 vars\n",
        "      if boyname not in names_to_rank:\n",
        "        names_to_rank[boyname] = rank\n",
        "      if girlname not in names_to_rank:\n",
        "        names_to_rank[girlname] = rank\n",
        "    sorted_names = sorted(names_to_rank.keys())\n",
        "    for name in sorted_names:\n",
        "      names.append(name + \" \" + names_to_rank[name])\n",
        "    \n",
        "    return names\n",
        "  \n",
        "summary7 = extract_web('/content/drive/My Drive/Baby/baby2002.html')"
      ],
      "execution_count": 0,
      "outputs": []
    },
    {
      "cell_type": "code",
      "metadata": {
        "id": "3Kh-SVjBTSht",
        "colab_type": "code",
        "colab": {}
      },
      "source": [
        "def extract_web(fname):\n",
        "    html_file = open(fname, 'r')\n",
        "    source_data = html_file.read()\n",
        "    names = []\n",
        "    year = re.findall(r'Popularity\\sin\\s(\\d\\d\\d\\d)', source_data)\n",
        "    content = re.findall(r'<td>(\\d+)</td><td>(\\w+)</td>\\<td>(\\w+)</td>', source_data)\n",
        "    names_to_rank =  {}\n",
        "    for rank_tuple in content:\n",
        "      (rank, boyname, girlname) = rank_tuple  # unpack the tuple into 3 vars\n",
        "      if boyname not in names_to_rank:\n",
        "        names_to_rank[boyname] = rank\n",
        "      if girlname not in names_to_rank:\n",
        "        names_to_rank[girlname] = rank\n",
        "    sorted_names = sorted(names_to_rank.keys())\n",
        "    for name in sorted_names:\n",
        "      names.append(name + \" \" + names_to_rank[name])\n",
        "    \n",
        "    return names\n",
        "  \n",
        "summary8 = extract_web('/content/drive/My Drive/Baby/baby2004.html')"
      ],
      "execution_count": 0,
      "outputs": []
    },
    {
      "cell_type": "code",
      "metadata": {
        "id": "7o8BzKVwTWLB",
        "colab_type": "code",
        "colab": {}
      },
      "source": [
        "def extract_web(fname):\n",
        "    html_file = open(fname, 'r')\n",
        "    source_data = html_file.read()\n",
        "    names = []\n",
        "    year = re.findall(r'Popularity\\sin\\s(\\d\\d\\d\\d)', source_data)\n",
        "    content = re.findall(r'<td>(\\d+)</td><td>(\\w+)</td>\\<td>(\\w+)</td>', source_data)\n",
        "    names_to_rank =  {}\n",
        "    for rank_tuple in content:\n",
        "      (rank, boyname, girlname) = rank_tuple  # unpack the tuple into 3 vars\n",
        "      if boyname not in names_to_rank:\n",
        "        names_to_rank[boyname] = rank\n",
        "      if girlname not in names_to_rank:\n",
        "        names_to_rank[girlname] = rank\n",
        "    sorted_names = sorted(names_to_rank.keys())\n",
        "    for name in sorted_names:\n",
        "      names.append(name + \" \" + names_to_rank[name])\n",
        "    \n",
        "    return names\n",
        "  \n",
        "summary9 = extract_web('/content/drive/My Drive/Baby/baby2006.html')"
      ],
      "execution_count": 0,
      "outputs": []
    },
    {
      "cell_type": "code",
      "metadata": {
        "id": "0AmB-RQuTazQ",
        "colab_type": "code",
        "colab": {}
      },
      "source": [
        "def extract_web(fname):\n",
        "    html_file = open(fname, 'r')\n",
        "    source_data = html_file.read()\n",
        "    names = []\n",
        "    year = re.findall(r'Popularity\\sin\\s(\\d\\d\\d\\d)', source_data)\n",
        "    content = re.findall(r'<td>(\\d+)</td><td>(\\w+)</td>\\<td>(\\w+)</td>', source_data)\n",
        "    names_to_rank =  {}\n",
        "    for rank_tuple in content:\n",
        "      (rank, boyname, girlname) = rank_tuple  # unpack the tuple into 3 vars\n",
        "      if boyname not in names_to_rank:\n",
        "        names_to_rank[boyname] = rank\n",
        "      if girlname not in names_to_rank:\n",
        "        names_to_rank[girlname] = rank\n",
        "    sorted_names = sorted(names_to_rank.keys())\n",
        "    for name in sorted_names:\n",
        "      names.append(name + \" \" + names_to_rank[name])\n",
        "    \n",
        "    return names\n",
        "  \n",
        "summary10 = extract_web('/content/drive/My Drive/Baby/baby2008.html')"
      ],
      "execution_count": 0,
      "outputs": []
    },
    {
      "cell_type": "code",
      "metadata": {
        "id": "cpHaCDleTezW",
        "colab_type": "code",
        "colab": {}
      },
      "source": [
        ""
      ],
      "execution_count": 0,
      "outputs": []
    }
  ]
}